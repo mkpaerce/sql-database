{
 "cells": [
  {
   "cell_type": "markdown",
   "id": "34becd3e-3a51-49c6-a430-9d8ea488d681",
   "metadata": {},
   "source": [
    "## *1. CLEANING WORLD HAPPINESS REPORT DATA* ##"
   ]
  },
  {
   "cell_type": "code",
   "execution_count": null,
   "id": "4e22f6ce-6376-4809-b4ee-4d1eea691ee5",
   "metadata": {},
   "outputs": [],
   "source": [
    "import pandas as pd\n",
    "import numpy as np\n",
    "import sqlite3\n",
    "\n",
    "# adding year column for merge later\n",
    "whr_2015 = pd.read_csv('../Raw/dataset2_world_happiness_report/2015.csv')\n",
    "whr_2015['Year'] = 2015\n",
    "\n",
    "whr_2016 = pd.read_csv('../Raw/dataset2_world_happiness_report/2016.csv')\n",
    "whr_2016['Year'] = 2016\n",
    "\n",
    "whr_2017 = pd.read_csv('../Raw/dataset2_world_happiness_report/2017.csv')\n",
    "whr_2017['Year'] = 2017\n",
    "\n",
    "whr_2018 = pd.read_csv('../Raw/dataset2_world_happiness_report/2018.csv')\n",
    "whr_2018['Year'] = 2018\n",
    "\n",
    "whr_2019 = pd.read_csv('../Raw/dataset2_world_happiness_report/2019.csv')  # Fixed file name\n",
    "whr_2019['Year'] = 2019"
   ]
  },
  {
   "cell_type": "code",
   "execution_count": null,
   "id": "db965d25-c426-4af2-8d71-110a02a1adae",
   "metadata": {},
   "outputs": [],
   "source": [
    "d1 = pd.read_csv('../Raw/dataset1_avg_annual_hours_worked.csv')"
   ]
  },
  {
   "cell_type": "code",
   "execution_count": null,
   "id": "a52db02b-0666-40c0-b5e2-29edbb11485b",
   "metadata": {},
   "outputs": [],
   "source": [
    "#renaming columns to common names\n",
    "\n",
    "whr_2015.rename(columns={\n",
    "    \"Year\":\"year\",\n",
    "    \"Country\":\"country\",\n",
    "    \"Region\":\"region\",\n",
    "    \"Happiness Score\": \"happiness\",\n",
    "    \"Economy (GDP per Capita)\": \"gdp_per_capita\",\n",
    "    \"Family\": \"social_support\",\n",
    "    \"Health (Life Expectancy)\": \"life_expectancy\",\n",
    "    \"Freedom\": \"freedom\",\n",
    "    \"Generosity\": \"generosity\",\n",
    "    \"Trust (Government Corruption)\": \"govt_corruption\"\n",
    "}, inplace=True)\n",
    "\n",
    "whr_2016.rename(columns={\n",
    "    \"Year\":\"year\",\n",
    "    \"Country\":\"country\",\n",
    "    \"Region\":\"region\",\n",
    "    \"Happiness Score\": \"happiness\",\n",
    "    \"Economy (GDP per Capita)\": \"gdp_per_capita\",\n",
    "    \"Family\": \"social_support\",\n",
    "    \"Health (Life Expectancy)\": \"life_expectancy\",\n",
    "    \"Freedom\": \"freedom\",\n",
    "    \"Generosity\": \"generosity\",\n",
    "    \"Trust (Government Corruption)\": \"govt_corruption\"\n",
    "}, inplace=True)\n",
    "\n",
    "whr_2017.rename(columns={\n",
    "    \"Year\":\"year\",\n",
    "    \"Country\":\"country\",\n",
    "    \"Happiness.Score\": \"happiness\",\n",
    "    \"Economy..GDP.per.Capita.\": \"gdp_per_capita\",\n",
    "    \"Family\": \"social_support\",\n",
    "    \"Health..Life.Expectancy.\": \"life_expectancy\",\n",
    "    \"Freedom\": \"freedom\",\n",
    "    \"Generosity\": \"generosity\",\n",
    "    \"Trust..Government.Corruption.\": \"govt_corruption\"\n",
    "}, inplace=True)\n",
    "\n",
    "whr_2018.rename(columns={\n",
    "    \"Year\":\"year\",\n",
    "    \"Country or region\":\"country\",\n",
    "    \"Score\": \"happiness\",\n",
    "    \"GDP per capita\": \"gdp_per_capita\",\n",
    "    \"Social support\": \"social_support\",\n",
    "    \"Healthy life expectancy\": \"life_expectancy\",\n",
    "    \"Freedom to make life choices\": \"freedom\",\n",
    "    \"Generosity\": \"generosity\",\n",
    "    \"Perceptions of corruption\": \"govt_corruption\"\n",
    "}, inplace=True)\n",
    "\n",
    "whr_2019.rename(columns={\n",
    "    \"Year\":\"year\",\n",
    "    \"Country or region\":\"country\",\n",
    "    \"Score\": \"happiness\",\n",
    "    \"GDP per capita\": \"gdp_per_capita\",\n",
    "    \"Social support\": \"social_support\",\n",
    "    \"Healthy life expectancy\": \"life_expectancy\",\n",
    "    \"Freedom to make life choices\": \"freedom\",\n",
    "    \"Generosity\": \"generosity\",\n",
    "    \"Perceptions of corruption\": \"govt_corruption\"\n",
    "}, inplace=True)\n"
   ]
  },
  {
   "cell_type": "code",
   "execution_count": null,
   "id": "c629b4c7-03d1-40c1-b5d9-34a6edcacb10",
   "metadata": {},
   "outputs": [],
   "source": [
    "#merging the different dataframes\n",
    "\n",
    "whr_long = pd.concat([whr_2015, whr_2016, whr_2017, whr_2018, whr_2019], ignore_index=True)\n",
    "\n",
    "columns_to_keep = [\"country\", \"region\", \"happiness\", \"gdp_per_capita\", \"social_support\", \"life_expectancy\", \"freedom\", \"govt_corruption\", \"generosity\", \"year\"]\n",
    "\n",
    "whr_combined = whr_long[columns_to_keep]"
   ]
  },
  {
   "cell_type": "code",
   "execution_count": null,
   "id": "74414269-fcf8-4d06-ad4c-adcf7aa96486",
   "metadata": {},
   "outputs": [],
   "source": [
    "#reordering year col\n",
    "\n",
    "year_col = whr_combined.pop(\"year\")  # Remove 'Year' column\n",
    "whr_combined.insert(0, \"year\", year_col) "
   ]
  },
  {
   "cell_type": "code",
   "execution_count": null,
   "id": "dbac308a-48f2-4412-a451-2893505e6f56",
   "metadata": {},
   "outputs": [],
   "source": [
    "#Fill missing 'Region' values with region values based on country column in other years\n",
    "whr_combined[\"region\"] = whr_combined.groupby(\"country\")[\"region\"].ffill().bfill()"
   ]
  },
  {
   "cell_type": "code",
   "execution_count": null,
   "id": "7f74069b-364b-40b3-9cce-cdd7c3e9d576",
   "metadata": {},
   "outputs": [],
   "source": [
    "#checking for null values\n",
    "print(whr_combined.isnull().sum())"
   ]
  },
  {
   "cell_type": "code",
   "execution_count": null,
   "id": "332f486a-2b66-4509-b136-8b382e7a51cc",
   "metadata": {},
   "outputs": [],
   "source": [
    "#compute the minimum non-null value of 'govt_corruption'\n",
    "min_value = whr_combined[\"govt_corruption\"].min()\n",
    "\n",
    "#fill missing values with the computed minimum\n",
    "whr_combined[\"govt_corruption\"].fillna(min_value, inplace=True)"
   ]
  },
  {
   "cell_type": "code",
   "execution_count": null,
   "id": "6d8de19c-d2e7-4997-8d58-42fe5ec312ec",
   "metadata": {},
   "outputs": [],
   "source": [
    "whr_combined"
   ]
  },
  {
   "cell_type": "markdown",
   "id": "9638f7b8-3ca1-4600-89d2-ecb0ce2070f8",
   "metadata": {},
   "source": [
    "## *2. CLEANING AVG HOURS WORKED PER PERSON PER YEAR* ##"
   ]
  },
  {
   "cell_type": "code",
   "execution_count": null,
   "id": "7463674a-ddb9-46c6-a8fd-ed346be649fc",
   "metadata": {},
   "outputs": [],
   "source": [
    "#changing columns to lowercase\n",
    "d1.columns = d1.columns.str.lower()\n",
    "\n",
    "#removing wide spaces\n",
    "d1.columns = d1.columns.str.replace(' ','_')\n",
    "\n",
    "#removing unwanted columns\n",
    "d1.drop(['structure', 'structure_name', 'action', 'ref_area','measure',\t\n",
    "         'measure',\t'unit_measure',\t'unit_of_measure',\n",
    "        'obs_status', 'observation_status',\t'unit_mult', 'unit_multiplier',\t'decimals',\t'decimals',\n",
    "        'sex', 'sex', 'age', 'age',\t'labour_force_status',\t'labour_force_status',\t'work_period',\t'work_period', 'aggregation_operation',\t\n",
    "         'aggregation_operation',\t'hour_bands', 'hour_bands', 'job_coverage','job_coverage',\n",
    "        'hours_type', 'hours_type',\t'worker_status', 'worker_status', 'work_time_arngmnt',\t'working_time_arrangement',\n",
    "        'structure_id','observation_value'], axis=1, inplace=True)\n",
    "\n",
    "#removing the second value time_period column, since its  duplicated\n",
    "d1 = d1.iloc[:, ~d1.columns.duplicated()]\n",
    "\n",
    "# Reset the index, turn it into a column\n",
    "d1 = d1.reset_index()\n",
    "whr_combined = whr_combined.reset_index()\n",
    "\n",
    "whr_combined = whr_combined.reset_index()\n",
    "# Rename the index column properly\n",
    "d1 = d1.rename(columns={'index': 'hours_id', 'reference_area': 'country', 'obs_value': 'average_hours', 'time_period': 'year'})\n",
    "whr_combined = whr_combined.rename(columns ={'index': 'whr_id'})\n"
   ]
  },
  {
   "cell_type": "code",
   "execution_count": null,
   "id": "00ce6bf4-466a-4257-bd1d-0ba391e01034",
   "metadata": {},
   "outputs": [],
   "source": [
    "display(d1)\n",
    "display(whr_combined)"
   ]
  },
  {
   "cell_type": "markdown",
   "id": "5f00a045-9420-4526-9e81-16223453426d",
   "metadata": {},
   "source": [
    "## *3. CREATE COUNTRIES & REGIONS TABLE* ##"
   ]
  },
  {
   "cell_type": "code",
   "execution_count": null,
   "id": "0f2f03de-e166-4274-828d-877f8eb19429",
   "metadata": {},
   "outputs": [],
   "source": [
    "#replacing inconsistent names\n",
    "d1['country'].replace(\"Türkiye\", \"Turkey\", inplace=True)\n",
    "d1['country'].replace(\"Slovak Republic\", \"Slovakia\", inplace=True)\n",
    "whr_combined['country'].replace(\"Czech Republic\", \"Czechia\", inplace=True)\n"
   ]
  },
  {
   "cell_type": "code",
   "execution_count": null,
   "id": "f7afe9be-d53c-4ee6-8038-a7b6247b02bf",
   "metadata": {},
   "outputs": [],
   "source": [
    "#dropping countries not present on both tables\n",
    "\n",
    "whr_combined['country'].replace([\n",
    "    'Somalia', 'Somaliland Region', 'Somaliland Region',\n",
    "    'Taiwan', 'Taiwan Province of China', 'Trinidad & Tobago',\n",
    "    'Trinidad and Tobago', 'Palestinian Territories',\n",
    "    'Congo (Brazzaville)', 'Congo (Kinshasa)', 'Hong Kong S.A.R., China','Hong Kong'\n",
    "], np.nan, inplace=True)\n",
    "\n",
    "#drop NaN values\n",
    "whr_combined = whr_combined.dropna(subset=['country'])"
   ]
  },
  {
   "cell_type": "code",
   "execution_count": null,
   "id": "282867a6-c486-4efb-9ff6-42857034ff35",
   "metadata": {},
   "outputs": [],
   "source": [
    "#dropping countries not present on both tables\n",
    "\n",
    "d1['country'].replace(['OECD'], np.nan, inplace=True)\n",
    "\n",
    "d1 = d1.dropna(subset=['country'])"
   ]
  },
  {
   "cell_type": "code",
   "execution_count": null,
   "id": "956a882c-2387-4eef-ac7e-c233bccb84af",
   "metadata": {},
   "outputs": [],
   "source": [
    "#Creating countries dataframe\n",
    "\n",
    "countries = whr_combined[['country']].drop_duplicates().reset_index(drop=True)\n",
    "\n",
    "countries['country_id'] = countries.index"
   ]
  },
  {
   "cell_type": "code",
   "execution_count": null,
   "id": "f3d37e2f-257f-4d67-8776-0378d329b704",
   "metadata": {},
   "outputs": [],
   "source": [
    "countries"
   ]
  },
  {
   "cell_type": "code",
   "execution_count": null,
   "id": "4dec0568-e7e3-47be-ad30-18aafe7bd470",
   "metadata": {},
   "outputs": [],
   "source": [
    "#Creating regions dataframe\n",
    "\n",
    "regions = whr_combined[['region']].drop_duplicates().reset_index(drop=True)\n",
    "\n",
    "regions['region_id'] = regions.index"
   ]
  },
  {
   "cell_type": "code",
   "execution_count": null,
   "id": "8f0be484-4fad-43a1-ac00-e711793184f4",
   "metadata": {},
   "outputs": [],
   "source": [
    "# Merge the two dataframes to replace country/region names with country_id and region_id\n",
    "whr_combined = whr_combined.merge(regions, on=\"region\", how=\"left\")\n",
    "whr_combined = whr_combined.merge(countries, on=\"country\", how=\"left\")\n",
    "\n",
    "\n",
    "# Drop the original 'country' column and rename 'country_id' appropriately\n",
    "whr_combined.drop(columns=['country','level_0','region'], inplace=True)\n"
   ]
  },
  {
   "cell_type": "code",
   "execution_count": null,
   "id": "1be09733-a261-47e5-89eb-b444e7d62f8b",
   "metadata": {},
   "outputs": [],
   "source": [
    "#reorder columns\n",
    "cols = whr_combined.columns.tolist()\n",
    "cols.insert(1, cols.pop(cols.index('country_id')))\n",
    "cols.insert(2, cols.pop(cols.index('region_id')))\n",
    "whr_combined = whr_combined[cols]\n",
    "\n",
    "display(whr_combined)"
   ]
  },
  {
   "cell_type": "code",
   "execution_count": null,
   "id": "9329eb3b-956e-4fa4-b861-231bcfb0d243",
   "metadata": {},
   "outputs": [],
   "source": [
    "# Merge the two dataframes to replace country/region names with country_id and region_id\n",
    "d1 = d1.merge(countries, on=\"country\", how=\"left\")\n",
    "\n",
    "d1.drop(columns=['country'], inplace=True)"
   ]
  },
  {
   "cell_type": "code",
   "execution_count": null,
   "id": "49449ee2-ac4a-4bbb-b789-081f4117d796",
   "metadata": {},
   "outputs": [],
   "source": [
    "cols = d1.columns.tolist()\n",
    "cols.insert(1, cols.pop(cols.index('country_id')))\n",
    "d1 = d1[cols]"
   ]
  },
  {
   "cell_type": "code",
   "execution_count": null,
   "id": "e3691799-e6a0-4d81-bb9b-25bcf7fe10f3",
   "metadata": {},
   "outputs": [],
   "source": [
    "#country_id column is a float because it contains NaN values due to them being countries not present in countries.df\n",
    "\n",
    "d1 = d1.dropna(subset=['country_id'])  # Remove NaN values\n",
    "d1['country_id'] = d1['country_id'].astype(int)  # Convert to integer"
   ]
  },
  {
   "cell_type": "code",
   "execution_count": null,
   "id": "b254cf62-7e69-4f7b-9a69-f82eeb79936b",
   "metadata": {},
   "outputs": [],
   "source": [
    "# set index=false when exporting dataframe .replace(\"\\n\", \" \")\n",
    "#d1['country'] = d1['country'].apply(lambda s: s.replace(\"\\n\", \" \"))\n",
    "\n",
    "#convert regions to csv\n",
    "regions['region'] = regions['region'].apply(lambda s: s.replace(\"\\n\",\" \"))\n",
    "regions.to_csv('regions.csv', index=False, sep=\";\", encoding=\"utf-8\")"
   ]
  },
  {
   "cell_type": "code",
   "execution_count": null,
   "id": "731ce725-da26-4992-8832-20408ffc4182",
   "metadata": {},
   "outputs": [],
   "source": [
    "#convert countries to csv\n",
    "countries['country'] = countries['country'].apply(lambda s: s.replace(\"\\n\",\" \"))\n",
    "countries.to_csv('countries.csv', index=False, sep=\";\", encoding=\"utf-8\")"
   ]
  },
  {
   "cell_type": "code",
   "execution_count": null,
   "id": "fef922ea-194d-4e87-8285-105ec0421556",
   "metadata": {},
   "outputs": [],
   "source": [
    "#convert whr to csv\n",
    "whr_combined.to_csv('whr_combined.csv', index=False, sep=\";\", encoding=\"utf-8\")"
   ]
  },
  {
   "cell_type": "code",
   "execution_count": null,
   "id": "12478959-1c3f-4efe-89b6-e1d1fe601acd",
   "metadata": {},
   "outputs": [],
   "source": [
    "#convert avg hours to csv\n",
    "d1.to_csv('average_hours_worked.csv', index=False, sep=\";\", encoding=\"utf-8\")"
   ]
  }
 ],
 "metadata": {
  "kernelspec": {
   "display_name": "Python [conda env:base] *",
   "language": "python",
   "name": "conda-base-py"
  },
  "language_info": {
   "codemirror_mode": {
    "name": "ipython",
    "version": 3
   },
   "file_extension": ".py",
   "mimetype": "text/x-python",
   "name": "python",
   "nbconvert_exporter": "python",
   "pygments_lexer": "ipython3",
   "version": "3.12.7"
  }
 },
 "nbformat": 4,
 "nbformat_minor": 5
}
