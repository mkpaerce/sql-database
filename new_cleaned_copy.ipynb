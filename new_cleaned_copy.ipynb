{
 "cells": [
  {
   "cell_type": "markdown",
   "id": "34becd3e-3a51-49c6-a430-9d8ea488d681",
   "metadata": {},
   "source": [
    "## *1. CLEANING WORLD HAPPINESS REPORT DATA* ##"
   ]
  },
  {
   "cell_type": "code",
   "execution_count": null,
   "id": "4e22f6ce-6376-4809-b4ee-4d1eea691ee5",
   "metadata": {},
   "outputs": [],
   "source": [
    "import pandas as pd\n",
    "import numpy as np\n",
    "import sqlite3\n",
    "\n",
    "# Loading data and adding year column\n",
    "whr_2015 = pd.read_csv('../Raw/dataset2_world_happiness_report/2015.csv')\n",
    "whr_2015['Year'] = 2015\n",
    "\n",
    "whr_2016 = pd.read_csv('../Raw/dataset2_world_happiness_report/2016.csv')\n",
    "whr_2016['Year'] = 2016\n",
    "\n",
    "whr_2017 = pd.read_csv('../Raw/dataset2_world_happiness_report/2017.csv')\n",
    "whr_2017['Year'] = 2017\n",
    "\n",
    "whr_2018 = pd.read_csv('../Raw/dataset2_world_happiness_report/2018.csv')\n",
    "whr_2018['Year'] = 2018\n",
    "\n",
    "whr_2019 = pd.read_csv('../Raw/dataset2_world_happiness_report/2019.csv')  # Fixed file name\n",
    "whr_2019['Year'] = 2019"
   ]
  },
  {
   "cell_type": "code",
   "execution_count": null,
   "id": "db965d25-c426-4af2-8d71-110a02a1adae",
   "metadata": {},
   "outputs": [],
   "source": [
    "d1 = pd.read_csv('../Raw/dataset1_avg_annual_hours_worked.csv')"
   ]
  },
  {
   "cell_type": "code",
   "execution_count": null,
   "id": "a52db02b-0666-40c0-b5e2-29edbb11485b",
   "metadata": {},
   "outputs": [],
   "source": [
    "#renaming columns to common names\n",
    "\n",
    "whr_2015.rename(columns={\n",
    "    \"Year\":\"year\",\n",
    "    \"Country\":\"country\",\n",
    "    \"Region\":\"region\",\n",
    "    \"Happiness Score\": \"happiness\",\n",
    "    \"Economy (GDP per Capita)\": \"gdp_per_capita\",\n",
    "    \"Family\": \"social_support\",\n",
    "    \"Health (Life Expectancy)\": \"life_expectancy\",\n",
    "    \"Freedom\": \"freedom\",\n",
    "    \"Generosity\": \"generosity\",\n",
    "    \"Trust (Government Corruption)\": \"govt_corruption\"\n",
    "}, inplace=True)\n",
    "\n",
    "whr_2016.rename(columns={\n",
    "    \"Year\":\"year\",\n",
    "    \"Country\":\"country\",\n",
    "    \"Region\":\"region\",\n",
    "    \"Happiness Score\": \"happiness\",\n",
    "    \"Economy (GDP per Capita)\": \"gdp_per_capita\",\n",
    "    \"Family\": \"social_support\",\n",
    "    \"Health (Life Expectancy)\": \"life_expectancy\",\n",
    "    \"Freedom\": \"freedom\",\n",
    "    \"Generosity\": \"generosity\",\n",
    "    \"Trust (Government Corruption)\": \"govt_corruption\"\n",
    "}, inplace=True)\n",
    "\n",
    "whr_2017.rename(columns={\n",
    "    \"Year\":\"year\",\n",
    "    \"Country\":\"country\",\n",
    "    \"Happiness.Score\": \"happiness\",\n",
    "    \"Economy..GDP.per.Capita.\": \"gdp_per_capita\",\n",
    "    \"Family\": \"social_support\",\n",
    "    \"Health..Life.Expectancy.\": \"life_expectancy\",\n",
    "    \"Freedom\": \"freedom\",\n",
    "    \"Generosity\": \"generosity\",\n",
    "    \"Trust..Government.Corruption.\": \"govt_corruption\"\n",
    "}, inplace=True)\n",
    "\n",
    "whr_2018.rename(columns={\n",
    "    \"Year\":\"year\",\n",
    "    \"Country or region\":\"country\",\n",
    "    \"Score\": \"happiness\",\n",
    "    \"GDP per capita\": \"gdp_per_capita\",\n",
    "    \"Social support\": \"social_support\",\n",
    "    \"Healthy life expectancy\": \"life_expectancy\",\n",
    "    \"Freedom to make life choices\": \"freedom\",\n",
    "    \"Generosity\": \"generosity\",\n",
    "    \"Perceptions of corruption\": \"govt_corruption\"\n",
    "}, inplace=True)\n",
    "\n",
    "whr_2019.rename(columns={\n",
    "    \"Year\":\"year\",\n",
    "    \"Country or region\":\"country\",\n",
    "    \"Score\": \"happiness\",\n",
    "    \"GDP per capita\": \"gdp_per_capita\",\n",
    "    \"Social support\": \"social_support\",\n",
    "    \"Healthy life expectancy\": \"life_expectancy\",\n",
    "    \"Freedom to make life choices\": \"freedom\",\n",
    "    \"Generosity\": \"generosity\",\n",
    "    \"Perceptions of corruption\": \"govt_corruption\"\n",
    "}, inplace=True)\n"
   ]
  },
  {
   "cell_type": "code",
   "execution_count": null,
   "id": "c629b4c7-03d1-40c1-b5d9-34a6edcacb10",
   "metadata": {},
   "outputs": [],
   "source": [
    "#merging the different dataframes\n",
    "\n",
    "whr_long = pd.concat([whr_2015, whr_2016, whr_2017, whr_2018, whr_2019], ignore_index=True)\n",
    "\n",
    "columns_to_keep = [\"country\", \"region\", \"happiness\", \"gdp_per_capita\", \"social_support\", \"life_expectancy\", \"freedom\", \"govt_corruption\", \"generosity\", \"year\"]\n",
    "\n",
    "whr_combined = whr_long[columns_to_keep]"
   ]
  },
  {
   "cell_type": "code",
   "execution_count": null,
   "id": "74414269-fcf8-4d06-ad4c-adcf7aa96486",
   "metadata": {},
   "outputs": [],
   "source": [
    "#reordering year col\n",
    "\n",
    "year_col = whr_combined.pop(\"year\")  # Remove 'Year' column\n",
    "whr_combined.insert(0, \"year\", year_col) "
   ]
  },
  {
   "cell_type": "code",
   "execution_count": null,
   "id": "dbac308a-48f2-4412-a451-2893505e6f56",
   "metadata": {},
   "outputs": [],
   "source": [
    "#Fill missing 'Region' values with region values based on country column in other years\n",
    "whr_combined[\"region\"] = whr_combined.groupby(\"country\")[\"region\"].ffill().bfill()"
   ]
  },
  {
   "cell_type": "code",
   "execution_count": null,
   "id": "7f74069b-364b-40b3-9cce-cdd7c3e9d576",
   "metadata": {},
   "outputs": [],
   "source": [
    "#checking for null values\n",
    "print(whr_combined.isnull().sum())"
   ]
  },
  {
   "cell_type": "code",
   "execution_count": null,
   "id": "332f486a-2b66-4509-b136-8b382e7a51cc",
   "metadata": {},
   "outputs": [],
   "source": [
    "#compute the minimum non-null value of 'govt_corruption'\n",
    "min_value = whr_combined[\"govt_corruption\"].min()\n",
    "\n",
    "#fill missing values with the computed minimum\n",
    "whr_combined[\"govt_corruption\"].fillna(min_value, inplace=True)"
   ]
  },
  {
   "cell_type": "code",
   "execution_count": null,
   "id": "6d8de19c-d2e7-4997-8d58-42fe5ec312ec",
   "metadata": {},
   "outputs": [],
   "source": [
    "whr_combined"
   ]
  },
  {
   "cell_type": "markdown",
   "id": "9638f7b8-3ca1-4600-89d2-ecb0ce2070f8",
   "metadata": {},
   "source": [
    "## *2. CLEANING AVG HOURS WORKED PER PERSON PER YEAR* ##"
   ]
  },
  {
   "cell_type": "code",
   "execution_count": null,
   "id": "7463674a-ddb9-46c6-a8fd-ed346be649fc",
   "metadata": {},
   "outputs": [],
   "source": [
    "#changing columns to lowercase\n",
    "d1.columns = d1.columns.str.lower()\n",
    "\n",
    "#removing wide spaces\n",
    "d1.columns = d1.columns.str.replace(' ','_')\n",
    "\n",
    "#removing unwanted columns\n",
    "d1.drop(['structure', 'structure_name', 'action', 'ref_area','measure',\t\n",
    "         'measure',\t'unit_measure',\t'unit_of_measure',\n",
    "        'obs_status', 'observation_status',\t'unit_mult', 'unit_multiplier',\t'decimals',\t'decimals',\n",
    "        'sex', 'sex', 'age', 'age',\t'labour_force_status',\t'labour_force_status',\t'work_period',\t'work_period', 'aggregation_operation',\t\n",
    "         'aggregation_operation',\t'hour_bands', 'hour_bands', 'job_coverage','job_coverage',\n",
    "        'hours_type', 'hours_type',\t'worker_status', 'worker_status', 'work_time_arngmnt',\t'working_time_arrangement',\n",
    "        'structure_id','observation_value'], axis=1, inplace=True)\n",
    "\n",
    "#removing the second value time_period column, since its  duplicated\n",
    "d1 = d1.iloc[:, ~d1.columns.duplicated()]\n",
    "\n",
    "# Reset the index, turn it into a column\n",
    "d1 = d1.reset_index()\n",
    "whr_combined = whr_combined.reset_index()\n",
    "\n",
    "whr_combined = whr_combined.reset_index()\n",
    "# Rename the index column properly\n",
    "d1 = d1.rename(columns={'index': 'hours_id', 'reference_area': 'country', 'obs_value': 'average_hours', 'time_period': 'year'})\n",
    "whr_combined = whr_combined.rename(columns ={'index': 'whr_id'})\n"
   ]
  },
  {
   "cell_type": "code",
   "execution_count": null,
   "id": "00ce6bf4-466a-4257-bd1d-0ba391e01034",
   "metadata": {},
   "outputs": [],
   "source": [
    "display(d1)\n",
    "display(whr_combined)"
   ]
  },
  {
   "cell_type": "markdown",
   "id": "5f00a045-9420-4526-9e81-16223453426d",
   "metadata": {},
   "source": [
    "## *3. CREATE JUNCTION TABLE* ##"
   ]
  },
  {
   "cell_type": "code",
   "execution_count": null,
   "id": "2cac4cf7-d366-4b49-b364-b5fc7f1b1887",
   "metadata": {},
   "outputs": [],
   "source": [
    "# set index=false when exporting dataframe .replace(\"\\n\", \" \")\n",
    "# df[col] = df[col].apply(lambda s: s.replace(\"\\n\",\" \") )\n",
    "# df.to_csv(filename, index=False, sep=\";\", encoding=\"utf-8\")"
   ]
  },
  {
   "cell_type": "code",
   "execution_count": null,
   "id": "c24dcd6b-a812-44cf-8065-a3f9e3a75c83",
   "metadata": {},
   "outputs": [],
   "source": [
    "print(\"Central African\\nRepublic\".replace(\"\\n\",\" \"))"
   ]
  },
  {
   "cell_type": "code",
   "execution_count": null,
   "id": "956a882c-2387-4eef-ac7e-c233bccb84af",
   "metadata": {},
   "outputs": [],
   "source": [
    "countries = whr_combined[['country']].drop_duplicates().reset_index(drop=True)\n",
    "\n",
    "countries['country_id'] = countries.index"
   ]
  },
  {
   "cell_type": "code",
   "execution_count": null,
   "id": "45f4d6cb-bf36-4568-9ff7-7ed0e4e26951",
   "metadata": {},
   "outputs": [],
   "source": [
    "#remove\n",
    "# Congo (Brazzaville) - whr_combined\n",
    "# Congo (Kinshasa) - whr_combined\n",
    "\n",
    "\n",
    "\n",
    "# Remove Hong Kong - d1\n",
    "\n",
    "# Remove OECD - d1\n",
    "\n",
    "# Remove Palestinian Territories - whr_combined\n",
    "\n",
    "# remove - Somalia - Somalia - Somaliland region - Somaliland Region - whr_combined\n",
    "\n",
    "# remove Taiwan = Taiwan Province of China - whr_combined\n",
    "\n",
    "# remove Trinidad & Tobago - Trinidad and Tobago - whr_combined\n"
   ]
  },
  {
   "cell_type": "code",
   "execution_count": null,
   "id": "0f2f03de-e166-4274-828d-877f8eb19429",
   "metadata": {},
   "outputs": [],
   "source": [
    "whr_combined['country'].replace(\"Czech Republic\", \"Czechia\", inplace=True)\n",
    "whr_combined[whr_combined['country'] == 'Czechia']"
   ]
  },
  {
   "cell_type": "code",
   "execution_count": null,
   "id": "58585fec-560c-4413-88bb-f829303d98ff",
   "metadata": {},
   "outputs": [],
   "source": [
    "d1['country'].replace(\"Türkiye\", \"Turkey\", inplace=True)\n",
    "d1[d1['country'] == 'Turkey']"
   ]
  },
  {
   "cell_type": "code",
   "execution_count": null,
   "id": "16840278-691d-490e-b685-016543632c55",
   "metadata": {},
   "outputs": [],
   "source": [
    "d1['country'].replace(\"Slovak Republic\", \"Slovakia\", inplace=True)\n",
    "d1[d1['country'] == 'Slovakia']"
   ]
  },
  {
   "cell_type": "code",
   "execution_count": null,
   "id": "af606389-a131-435b-85e0-42239e0c828a",
   "metadata": {},
   "outputs": [],
   "source": [
    "#removing some values in country column\n",
    "whr_combined['country'] = whr_combined['country'].replace('somalia', np.nan, inplace=True)\n",
    "whr_combined['country'] = whr_combined['country'].replace('somaliland region', np.nan, inplace=True)\n",
    "whr_combined['country'] = whr_combined['country'].replace('somaliland Region', np.nan, inplace=True)\n",
    "whr_combined['country'] = whr_combined['country'].replace('Taiwan', np.nan, inplace=True)\n",
    "whr_combined['country'] = whr_combined['country'].replace('Taiwan province of China', np.nan, inplace=True)\n",
    "whr_combined['country'] = whr_combined['country'].replace('Trinidad & Tobago', np.nan, inplace=True)\n",
    "whr_combined['country'] = whr_combined['country'].replace('Trinidad and Tobago', np.nan, inplace)\n",
    "whr_combined['country'] = whr_combined['country'].replace('Palestinian Territories', np.nan, inplace=True)\n",
    "whr_combined['country'] = whr_combined['country'].replace('Congo (Brazzaville)', np.nan, inplace=True)\n",
    "whr_combined['country'] = whr_combined['country'].replace(' Congo (Kinshasa)', np.nan, inplace=True)\n",
    "\n",
    "whr_combined = whr_combined.dropna(subset=['country'])"
   ]
  },
  {
   "cell_type": "code",
   "execution_count": null,
   "id": "14ac5a64-ebf1-49db-aefc-57c84e1767d0",
   "metadata": {},
   "outputs": [],
   "source": [
    "#remving unwanted values from d1 table \n",
    "d1['country'] = d1['country'].replace('Hong Kong', np.nan, inplace=True)\n",
    "d1['country'] = d1['country'].replace('OECD', np.nan, inplace=True)\n",
    "\n",
    "d1 = d1.dropna(subset=['country'])"
   ]
  },
  {
   "cell_type": "code",
   "execution_count": null,
   "id": "4dec0568-e7e3-47be-ad30-18aafe7bd470",
   "metadata": {},
   "outputs": [],
   "source": [
    "regions = whr_combined[['region']].drop_duplicates().reset_index(drop=True)\n",
    "\n",
    "regions['region_id'] = regions.index"
   ]
  },
  {
   "cell_type": "code",
   "execution_count": null,
   "id": "0aff4bbe-6ab6-482b-a216-0964b5a71ee9",
   "metadata": {},
   "outputs": [],
   "source": [
    "regions"
   ]
  },
  {
   "cell_type": "code",
   "execution_count": null,
   "id": "b254cf62-7e69-4f7b-9a69-f82eeb79936b",
   "metadata": {},
   "outputs": [],
   "source": []
  }
 ],
 "metadata": {
  "kernelspec": {
   "display_name": "Python 3 (ipykernel)",
   "language": "python",
   "name": "python3"
  },
  "language_info": {
   "codemirror_mode": {
    "name": "ipython",
    "version": 3
   },
   "file_extension": ".py",
   "mimetype": "text/x-python",
   "name": "python",
   "nbconvert_exporter": "python",
   "pygments_lexer": "ipython3",
   "version": "3.12.7"
  }
 },
 "nbformat": 4,
 "nbformat_minor": 5
}
