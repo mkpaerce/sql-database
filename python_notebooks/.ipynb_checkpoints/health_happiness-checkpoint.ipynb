{
 "cells": [
  {
   "cell_type": "code",
   "execution_count": null,
   "id": "cf3abcda-b832-4ee9-8d83-c99d7f33066d",
   "metadata": {},
   "outputs": [],
   "source": [
    "import pandas as pd\n",
    "import seaborn as sns\n",
    "import numpy as np\n",
    "import matplotlib.pyplot as plt\n",
    "df = pd.read_csv(\"all_data.csv\")"
   ]
  },
  {
   "cell_type": "code",
   "execution_count": null,
   "id": "306712da-75cf-4e9b-aade-99c5f6a22bd1",
   "metadata": {},
   "outputs": [],
   "source": [
    "# Work Hours vs Happiness\n",
    "plt.figure(figsize=(10, 6))\n",
    "sns.regplot(x=df['average_hours'], y=df['happiness'], scatter_kws={\"alpha\":0.6}, line_kws={\"color\":\"red\"})\n",
    "plt.title('Work Hours vs Happiness')\n",
    "plt.xlabel('Average Work Hours per Year')\n",
    "plt.ylabel('Happiness Score')\n",
    "plt.grid(True)\n",
    "plt.savefig('Happiness vs hours worked.png', dpi=300, bbox_inches='tight')\n",
    "plt.show()\n"
   ]
  },
  {
   "cell_type": "code",
   "execution_count": null,
   "id": "8d06173d-c792-4481-ad12-ec06757430b9",
   "metadata": {},
   "outputs": [],
   "source": [
    "# Work Hours vs Life Expectancy\n",
    "plt.figure(figsize=(10, 6))\n",
    "sns.regplot(x=df['average_hours'], y=df['life_expectancy'], scatter_kws={\"alpha\":0.6}, line_kws={\"color\":\"red\"})\n",
    "plt.title('Work Hours vs Life Expectancy')\n",
    "plt.xlabel('Average Work Hours per Year')\n",
    "plt.ylabel('Life Expectancy Score')\n",
    "plt.grid(True)\n",
    "plt.savefig('Health vs hours worked.png', dpi=300, bbox_inches='tight')\n",
    "plt.show()"
   ]
  },
  {
   "cell_type": "code",
   "execution_count": null,
   "id": "8223eec4-232f-4fc9-b429-005f0cc37947",
   "metadata": {},
   "outputs": [],
   "source": [
    "# Scatter plot with labeled top 5 and bottom 5 countries for 2019\n",
    "western_europe_df = df[df[\"region\"] == \"Western Europe\"]\n",
    "western_europe_2019_df = western_europe_df[western_europe_df[\"year\"] == 2019]\n",
    "\n",
    "top_5_happy_2019 = western_europe_2019_df.nlargest(5, \"happiness\")[[\"country\", \"happiness\", \"average_hours\"]]\n",
    "bottom_5_happy_2019 = western_europe_2019_df.nsmallest(5, \"happiness\")[[\"country\", \"happiness\", \"average_hours\"]]\n",
    "\n",
    "highlight_countries_2019 = pd.concat([top_5_happy_2019, bottom_5_happy_2019])\n",
    "\n",
    "plt.figure(figsize=(10, 6))\n",
    "sns.regplot(x=western_europe_2019_df[\"average_hours\"], y=western_europe_2019_df[\"happiness\"], scatter_kws={\"alpha\": 0.6}, line_kws={\"color\": \"red\"})\n",
    "plt.title(\"Work Hours vs Happiness in Western Europe\")\n",
    "plt.xlabel(\"Average Work Hours per Year\")\n",
    "plt.ylabel(\"Happiness Score\")\n",
    "plt.grid(True)\n",
    "\n",
    "\n",
    "for _, row in highlight_countries_2019.iterrows():\n",
    "    plt.text(row[\"average_hours\"], row[\"happiness\"], row[\"country\"], fontsize=8, ha='center', color=\"black\")\n",
    "plt.show()\n"
   ]
  },
  {
   "cell_type": "code",
   "execution_count": null,
   "id": "81c4b5a5-7e32-49e2-8e43-755c84c8af14",
   "metadata": {},
   "outputs": [],
   "source": [
    "# Work Hours vs Happiness - 2019, Western Europe & North America\n",
    "\n",
    "regions_2019_df = df[(df[\"region\"].isin([\"Western Europe\"])) & (df[\"year\"] == 2019)]\n",
    "\n",
    "top_3_happy = regions_2019_df.nlargest(3, \"happiness\")[[\"country\", \"happiness\", \"average_hours\"]]\n",
    "bottom_3_happy = regions_2019_df.nsmallest(3, \"happiness\")[[\"country\", \"happiness\", \"average_hours\"]]\n",
    "\n",
    "\n",
    "highlight_countries_2019 = pd.concat([top_3_happy, bottom_3_happy])\n",
    "\n",
    "plt.figure(figsize=(10, 6))\n",
    "sns.regplot(x=regions_2019_df[\"average_hours\"], y=regions_2019_df[\"happiness\"], scatter_kws={\"alpha\": 0.6}, line_kws={\"color\": \"red\"})\n",
    "sns.scatterplot(x=regions_2019_df[\"average_hours\"], y=regions_2019_df[\"happiness\"], hue=regions_2019_df[\"region\"], alpha=0.8, edgecolor=\"w\")\n",
    "\n",
    "plt.title(\"Work Hours vs Happiness (Western Europe, 2019)\")\n",
    "plt.xlabel(\"Average Work Hours per Year\")\n",
    "plt.ylabel(\"Happiness Score\")\n",
    "plt.legend(title=\"Region\")\n",
    "plt.grid(True)\n",
    "\n",
    "for _, row in highlight_countries_2019.iterrows():\n",
    "    plt.text(row[\"average_hours\"], row[\"happiness\"], row[\"country\"], fontsize=8, ha='right', color=\"black\")\n",
    "plt.show()\n",
    "\n",
    "highlight_countries_2019\n"
   ]
  },
  {
   "cell_type": "code",
   "execution_count": null,
   "id": "266536dc-348b-4625-a932-4af9eaf6b7a1",
   "metadata": {},
   "outputs": [],
   "source": [
    "# Work Hours vs Health - 2019, Western Europe & North America\n",
    "western_europe_2019_df = df[(df[\"region\"].isin([\"Western Europe\"])) & (df[\"year\"] == 2019)]\n",
    "plt.figure(figsize=(10, 6))\n",
    "sns.regplot(x=western_europe_2019_df[\"average_hours\"], y=western_europe_2019_df[\"life_expectancy\"], scatter_kws={\"alpha\": 0.6}, line_kws={\"color\": \"red\"})\n",
    "plt.title(\"Work Hours vs Life Expectancy in Western Europe (2019)\")\n",
    "plt.xlabel(\"Average Work Hours per Year\")\n",
    "plt.ylabel(\"Life Expectancy\")\n",
    "plt.grid(True)\n",
    "\n",
    "for _, row in western_europe_2019_df.iterrows():\n",
    "    plt.text(row[\"average_hours\"], row[\"life_expectancy\"], f\"{row['country']}\", fontsize=9, ha='left', color=\"black\")\n",
    "plt.show()"
   ]
  },
  {
   "cell_type": "code",
   "execution_count": null,
   "id": "a03c1780-f519-498c-8dc8-94ad6908b2ce",
   "metadata": {},
   "outputs": [],
   "source": []
  }
 ],
 "metadata": {
  "kernelspec": {
   "display_name": "Python [conda env:base] *",
   "language": "python",
   "name": "conda-base-py"
  },
  "language_info": {
   "codemirror_mode": {
    "name": "ipython",
    "version": 3
   },
   "file_extension": ".py",
   "mimetype": "text/x-python",
   "name": "python",
   "nbconvert_exporter": "python",
   "pygments_lexer": "ipython3",
   "version": "3.12.7"
  }
 },
 "nbformat": 4,
 "nbformat_minor": 5
}
