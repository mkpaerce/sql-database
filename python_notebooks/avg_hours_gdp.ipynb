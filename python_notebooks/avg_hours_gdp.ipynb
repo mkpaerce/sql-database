{
 "cells": [
  {
   "cell_type": "code",
   "execution_count": null,
   "id": "4ce33b47-075f-4810-bb91-ac0913955328",
   "metadata": {},
   "outputs": [],
   "source": [
    "import pandas as pd\n",
    "import seaborn as sns\n",
    "import numpy as np\n",
    "import matplotlib.pyplot as plt\n",
    "import scipy.stats as stats\n",
    "df = pd.read_csv(\"avg_hours_vs_gdp_unfiltered.csv\")"
   ]
  },
  {
   "cell_type": "code",
   "execution_count": null,
   "id": "24696bc9-4a1d-45c2-99f8-4925e503a759",
   "metadata": {},
   "outputs": [],
   "source": [
    "display(df[df['country'] == 'Canada'])"
   ]
  },
  {
   "cell_type": "code",
   "execution_count": null,
   "id": "be05bda8-9508-4efc-9fdd-54853f2c1312",
   "metadata": {},
   "outputs": [],
   "source": [
    "# Compute summary statistics for each region\n",
    "region_summary = df.groupby(\"region\").agg(\n",
    "    avg_hours_mean=(\"average_hours\", \"mean\"),\n",
    "    avg_hours_median=(\"average_hours\", \"median\"),\n",
    "    gdp_mean=(\"gdp_per_capita\", \"mean\"),\n",
    "    gdp_median=(\"gdp_per_capita\", \"median\"),\n",
    "    gdp_std=(\"gdp_per_capita\", \"std\")\n",
    ").reset_index()\n",
    "\n",
    "# Compute GDP per hour worked\n",
    "region_summary[\"gdp_per_hour\"] = region_summary[\"gdp_mean\"] / region_summary[\"avg_hours_mean\"]\n",
    "\n",
    "# Merge correlation into summary table\n",
    "region_summary = region_summary.merge(correlation_data, on=\"region\")\n",
    "\n",
    "display(region_summary)"
   ]
  },
  {
   "cell_type": "code",
   "execution_count": null,
   "id": "15a5532a-941e-4642-9989-2bc9b9bfe089",
   "metadata": {},
   "outputs": [],
   "source": [
    "# Calculate correlation coefficients for each region\n",
    "correlation_data = df.groupby(\"region\").apply(lambda x: stats.pearsonr(x[\"average_hours\"], x[\"gdp_per_capita\"])[0]).reset_index()\n",
    "correlation_data.columns = [\"region\", \"correlation\"]\n",
    "\n",
    "correlation_data"
   ]
  },
  {
   "cell_type": "code",
   "execution_count": null,
   "id": "780f0135-9712-4f65-a911-e8c7ffac9d64",
   "metadata": {},
   "outputs": [],
   "source": [
    "# Sort data for plotting\n",
    "gdp_sorted = region_summary.sort_values(by=\"gdp_median\")\n",
    "hours_sorted = region_summary.sort_values(by=\"avg_hours_median\")\n",
    "correlation_sorted = correlation_data.sort_values(by=\"correlation\")\n",
    "gdp_per_hour_sorted = region_summary.sort_values(by=\"gdp_per_hour\")\n",
    "\n",
    "# Plot 1: GDP per Capita by Region\n",
    "plt.figure(figsize=(10, 5))\n",
    "sns.barplot(data=gdp_sorted, x=\"gdp_median\", y=\"region\", palette=\"coolwarm\")\n",
    "plt.xlabel(\"GDP per Capita (normalized)\")\n",
    "plt.ylabel(\"Region\")\n",
    "plt.title(\"GDP per Capita\")\n",
    "plt.savefig('GDP by Region.png', dpi=300, bbox_inches='tight')\n",
    "plt.show()\n",
    "\n"
   ]
  },
  {
   "cell_type": "code",
   "execution_count": null,
   "id": "d58f177d-41a2-4334-9d77-d9eaac4d7d90",
   "metadata": {},
   "outputs": [],
   "source": [
    "# Plot 2: Average Hours Worked by Region\n",
    "plt.figure(figsize=(10, 5))\n",
    "sns.barplot(data=hours_sorted, x=\"avg_hours_median\", y=\"region\", palette=\"coolwarm\")\n",
    "plt.xlabel(\"Average Hours Worked, Per Year, Per Person\")\n",
    "plt.ylabel(\"Region\")\n",
    "plt.title(\"Average Annual Hours Worked\")\n",
    "plt.savefig('Hours by Region.png', dpi=300, bbox_inches='tight')\n",
    "plt.show()\n",
    "\n"
   ]
  },
  {
   "cell_type": "code",
   "execution_count": null,
   "id": "1765baff-7a68-421e-85d0-0dc7d801bf07",
   "metadata": {},
   "outputs": [],
   "source": [
    "# Plot 3: Correlation between Hours Worked and GDP per Capita by Region\n",
    "plt.figure(figsize=(10, 5))\n",
    "sns.barplot(data=correlation_sorted, x=\"correlation\", y=\"region\", palette=\"coolwarm\")\n",
    "plt.xlabel(\"Correlation Coefficient\")\n",
    "plt.ylabel(\"Region\")\n",
    "plt.title(\"Correlation Between Hours Worked and GDP per Capita by Region\")\n",
    "plt.savefig('Correlation between hours gdp.png', dpi=300, bbox_inches='tight')\n",
    "plt.show()\n",
    "\n"
   ]
  },
  {
   "cell_type": "code",
   "execution_count": null,
   "id": "6ae76ba1-3c6a-4776-bfba-20136c80db7a",
   "metadata": {},
   "outputs": [],
   "source": [
    "# Plot GDP per hour worked by region\n",
    "plt.figure(figsize=(10, 5))\n",
    "sns.barplot(data=gdp_per_hour_sorted, x=\"gdp_per_hour\", y=\"region\", palette=\"coolwarm\")\n",
    "\n",
    "# Labels and title\n",
    "plt.xlabel(\"GDP per Hour Worked (normalized)\")\n",
    "plt.ylabel(\"Region\")\n",
    "plt.title(\"GDP per Hour Worked by Region (Ordered)\")\n",
    "plt.savefig('GDP per hour.png', dpi=300, bbox_inches='tight')\n",
    "plt.show()"
   ]
  },
  {
   "cell_type": "code",
   "execution_count": null,
   "id": "31594bd8-9103-4e72-a10c-1d78bb8dea43",
   "metadata": {},
   "outputs": [],
   "source": [
    "plt.figure(figsize=(12, 6))\n",
    "sns.barplot(data=region_summary, x=\"region\", y=\"avg_hours_mean\", palette=\"coolwarm\")\n",
    "plt.xticks(rotation=45, ha=\"right\")\n",
    "plt.xlabel(\"Region\")\n",
    "plt.ylabel(\"Average Hours Worked per Year\")\n",
    "plt.title(\"Average Hours Worked per Year by Region\")\n",
    "plt.grid(axis=\"y\", linestyle=\"--\", alpha=0.7)\n",
    "plt.savefig('Average Hours by Region.png', dpi=300, bbox_inches='tight')\n",
    "plt.show()"
   ]
  },
  {
   "cell_type": "code",
   "execution_count": null,
   "id": "d088b1df-2b63-4d8e-9bd1-71da9b6c21e4",
   "metadata": {},
   "outputs": [],
   "source": [
    "# Scatter plot of Hours worked vs GDP per capita\n",
    "\n",
    "# Create a scatter plot with regression line\n",
    "plt.figure(figsize=(10, 6))\n",
    "sns.regplot(x=df[\"average_hours\"], y=df[\"gdp_per_capita\"], scatter_kws={\"alpha\": 0.5}, line_kws={\"color\": \"red\"})\n",
    "\n",
    "# Labels and title\n",
    "plt.xlabel(\"Average Hours Worked per Year\")\n",
    "plt.ylabel(\"GDP per Capita (WHR Score)\")\n",
    "plt.title(\"Relationship Between Hours Worked and GDP per Capita\")\n",
    "plt.grid(True)\n",
    "\n",
    "# Show the plot\n",
    "plt.savefig('Scatter plot relationship between hours and gdp.png', dpi=300, bbox_inches='tight')\n",
    "plt.show()"
   ]
  },
  {
   "cell_type": "code",
   "execution_count": null,
   "id": "6cbf6c6f-f1a4-4d8b-83aa-0ed624a94b1e",
   "metadata": {},
   "outputs": [],
   "source": [
    "\n"
   ]
  }
 ],
 "metadata": {
  "kernelspec": {
   "display_name": ".venv",
   "language": "python",
   "name": ".venv"
  },
  "language_info": {
   "codemirror_mode": {
    "name": "ipython",
    "version": 3
   },
   "file_extension": ".py",
   "mimetype": "text/x-python",
   "name": "python",
   "nbconvert_exporter": "python",
   "pygments_lexer": "ipython3",
   "version": "3.12.7"
  }
 },
 "nbformat": 4,
 "nbformat_minor": 5
}
